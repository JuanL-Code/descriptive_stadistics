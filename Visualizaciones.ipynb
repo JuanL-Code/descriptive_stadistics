{
 "cells": [
  {
   "cell_type": "code",
   "metadata": {
    "tags": [],
    "cell_id": "00000-96a047aa-af93-4998-a073-ba2e7dccff7e",
    "deepnote_to_be_reexecuted": false,
    "source_hash": "335bdd54",
    "execution_start": 1624895720879,
    "execution_millis": 2845,
    "output_cleared": false,
    "deepnote_cell_type": "code"
   },
   "source": "import pandas as pd \nimport seaborn as sns\n\niris = sns.load_dataset('iris')\n\niris.head()",
   "outputs": [
    {
     "output_type": "execute_result",
     "execution_count": 1,
     "data": {
      "application/vnd.deepnote.dataframe.v2+json": {
       "row_count": 5,
       "column_count": 5,
       "columns": [
        {
         "name": "sepal_length",
         "dtype": "float64",
         "stats": {
          "unique_count": 5,
          "nan_count": 0,
          "min": "4.6",
          "max": "5.1",
          "histogram": [
           {
            "bin_start": 4.6,
            "bin_end": 4.6499999999999995,
            "count": 1
           },
           {
            "bin_start": 4.6499999999999995,
            "bin_end": 4.699999999999999,
            "count": 0
           },
           {
            "bin_start": 4.699999999999999,
            "bin_end": 4.75,
            "count": 1
           },
           {
            "bin_start": 4.75,
            "bin_end": 4.8,
            "count": 0
           },
           {
            "bin_start": 4.8,
            "bin_end": 4.85,
            "count": 0
           },
           {
            "bin_start": 4.85,
            "bin_end": 4.8999999999999995,
            "count": 0
           },
           {
            "bin_start": 4.8999999999999995,
            "bin_end": 4.949999999999999,
            "count": 1
           },
           {
            "bin_start": 4.949999999999999,
            "bin_end": 5,
            "count": 0
           },
           {
            "bin_start": 5,
            "bin_end": 5.05,
            "count": 1
           },
           {
            "bin_start": 5.05,
            "bin_end": 5.1,
            "count": 1
           }
          ]
         }
        },
        {
         "name": "sepal_width",
         "dtype": "float64",
         "stats": {
          "unique_count": 5,
          "nan_count": 0,
          "min": "3.0",
          "max": "3.6",
          "histogram": [
           {
            "bin_start": 3,
            "bin_end": 3.06,
            "count": 1
           },
           {
            "bin_start": 3.06,
            "bin_end": 3.12,
            "count": 1
           },
           {
            "bin_start": 3.12,
            "bin_end": 3.18,
            "count": 0
           },
           {
            "bin_start": 3.18,
            "bin_end": 3.24,
            "count": 1
           },
           {
            "bin_start": 3.24,
            "bin_end": 3.3,
            "count": 0
           },
           {
            "bin_start": 3.3,
            "bin_end": 3.3600000000000003,
            "count": 0
           },
           {
            "bin_start": 3.3600000000000003,
            "bin_end": 3.42,
            "count": 0
           },
           {
            "bin_start": 3.42,
            "bin_end": 3.48,
            "count": 0
           },
           {
            "bin_start": 3.48,
            "bin_end": 3.54,
            "count": 1
           },
           {
            "bin_start": 3.54,
            "bin_end": 3.6,
            "count": 1
           }
          ]
         }
        },
        {
         "name": "petal_length",
         "dtype": "float64",
         "stats": {
          "unique_count": 3,
          "nan_count": 0,
          "min": "1.3",
          "max": "1.5",
          "histogram": [
           {
            "bin_start": 1.3,
            "bin_end": 1.32,
            "count": 1
           },
           {
            "bin_start": 1.32,
            "bin_end": 1.34,
            "count": 0
           },
           {
            "bin_start": 1.34,
            "bin_end": 1.36,
            "count": 0
           },
           {
            "bin_start": 1.36,
            "bin_end": 1.3800000000000001,
            "count": 0
           },
           {
            "bin_start": 1.3800000000000001,
            "bin_end": 1.4,
            "count": 0
           },
           {
            "bin_start": 1.4,
            "bin_end": 1.42,
            "count": 3
           },
           {
            "bin_start": 1.42,
            "bin_end": 1.44,
            "count": 0
           },
           {
            "bin_start": 1.44,
            "bin_end": 1.46,
            "count": 0
           },
           {
            "bin_start": 1.46,
            "bin_end": 1.48,
            "count": 0
           },
           {
            "bin_start": 1.48,
            "bin_end": 1.5,
            "count": 1
           }
          ]
         }
        },
        {
         "name": "petal_width",
         "dtype": "float64",
         "stats": {
          "unique_count": 1,
          "nan_count": 0,
          "min": "0.2",
          "max": "0.2",
          "histogram": [
           {
            "bin_start": -0.3,
            "bin_end": -0.19999999999999998,
            "count": 0
           },
           {
            "bin_start": -0.19999999999999998,
            "bin_end": -0.09999999999999998,
            "count": 0
           },
           {
            "bin_start": -0.09999999999999998,
            "bin_end": 5.551115123125783e-17,
            "count": 0
           },
           {
            "bin_start": 5.551115123125783e-17,
            "bin_end": 0.10000000000000003,
            "count": 0
           },
           {
            "bin_start": 0.10000000000000003,
            "bin_end": 0.2,
            "count": 0
           },
           {
            "bin_start": 0.2,
            "bin_end": 0.3000000000000001,
            "count": 5
           },
           {
            "bin_start": 0.3000000000000001,
            "bin_end": 0.4000000000000001,
            "count": 0
           },
           {
            "bin_start": 0.4000000000000001,
            "bin_end": 0.5,
            "count": 0
           },
           {
            "bin_start": 0.5,
            "bin_end": 0.6000000000000001,
            "count": 0
           },
           {
            "bin_start": 0.6000000000000001,
            "bin_end": 0.7,
            "count": 0
           }
          ]
         }
        },
        {
         "name": "species",
         "dtype": "object",
         "stats": {
          "unique_count": 1,
          "nan_count": 0,
          "categories": [
           {
            "name": "setosa",
            "count": 5
           }
          ]
         }
        },
        {
         "name": "_deepnote_index_column",
         "dtype": "int64"
        }
       ],
       "rows_top": [
        {
         "sepal_length": 5.1,
         "sepal_width": 3.5,
         "petal_length": 1.4,
         "petal_width": 0.2,
         "species": "setosa",
         "_deepnote_index_column": 0
        },
        {
         "sepal_length": 4.9,
         "sepal_width": 3,
         "petal_length": 1.4,
         "petal_width": 0.2,
         "species": "setosa",
         "_deepnote_index_column": 1
        },
        {
         "sepal_length": 4.7,
         "sepal_width": 3.2,
         "petal_length": 1.3,
         "petal_width": 0.2,
         "species": "setosa",
         "_deepnote_index_column": 2
        },
        {
         "sepal_length": 4.6,
         "sepal_width": 3.1,
         "petal_length": 1.5,
         "petal_width": 0.2,
         "species": "setosa",
         "_deepnote_index_column": 3
        },
        {
         "sepal_length": 5,
         "sepal_width": 3.6,
         "petal_length": 1.4,
         "petal_width": 0.2,
         "species": "setosa",
         "_deepnote_index_column": 4
        }
       ],
       "rows_bottom": null
      },
      "text/plain": "   sepal_length  sepal_width  petal_length  petal_width species\n0           5.1          3.5           1.4          0.2  setosa\n1           4.9          3.0           1.4          0.2  setosa\n2           4.7          3.2           1.3          0.2  setosa\n3           4.6          3.1           1.5          0.2  setosa\n4           5.0          3.6           1.4          0.2  setosa",
      "text/html": "<div>\n<style scoped>\n    .dataframe tbody tr th:only-of-type {\n        vertical-align: middle;\n    }\n\n    .dataframe tbody tr th {\n        vertical-align: top;\n    }\n\n    .dataframe thead th {\n        text-align: right;\n    }\n</style>\n<table border=\"1\" class=\"dataframe\">\n  <thead>\n    <tr style=\"text-align: right;\">\n      <th></th>\n      <th>sepal_length</th>\n      <th>sepal_width</th>\n      <th>petal_length</th>\n      <th>petal_width</th>\n      <th>species</th>\n    </tr>\n  </thead>\n  <tbody>\n    <tr>\n      <th>0</th>\n      <td>5.1</td>\n      <td>3.5</td>\n      <td>1.4</td>\n      <td>0.2</td>\n      <td>setosa</td>\n    </tr>\n    <tr>\n      <th>1</th>\n      <td>4.9</td>\n      <td>3.0</td>\n      <td>1.4</td>\n      <td>0.2</td>\n      <td>setosa</td>\n    </tr>\n    <tr>\n      <th>2</th>\n      <td>4.7</td>\n      <td>3.2</td>\n      <td>1.3</td>\n      <td>0.2</td>\n      <td>setosa</td>\n    </tr>\n    <tr>\n      <th>3</th>\n      <td>4.6</td>\n      <td>3.1</td>\n      <td>1.5</td>\n      <td>0.2</td>\n      <td>setosa</td>\n    </tr>\n    <tr>\n      <th>4</th>\n      <td>5.0</td>\n      <td>3.6</td>\n      <td>1.4</td>\n      <td>0.2</td>\n      <td>setosa</td>\n    </tr>\n  </tbody>\n</table>\n</div>"
     },
     "metadata": {}
    }
   ],
   "execution_count": null
  },
  {
   "cell_type": "markdown",
   "source": "https://seaborn.pydata.org/generated/seaborn.scatterplot.html",
   "metadata": {
    "tags": [],
    "cell_id": "00001-bc570889-0bda-4bea-a9e8-fb8d7576c9e6",
    "deepnote_cell_type": "markdown"
   }
  },
  {
   "cell_type": "code",
   "metadata": {
    "tags": [],
    "cell_id": "00001-e2254613-4450-4121-b2cc-d11b81317f87",
    "deepnote_to_be_reexecuted": false,
    "source_hash": "3c6a818a",
    "execution_start": 1624895723747,
    "execution_millis": 432,
    "output_cleared": false,
    "deepnote_cell_type": "code"
   },
   "source": "# scatterplot \nsns.scatterplot(data=iris, x = 'sepal_length', y = 'petal_length', hue = 'species')",
   "outputs": [
    {
     "output_type": "execute_result",
     "execution_count": 2,
     "data": {
      "text/plain": "<AxesSubplot:xlabel='sepal_length', ylabel='petal_length'>"
     },
     "metadata": {}
    },
    {
     "data": {
      "text/plain": "<Figure size 432x288 with 1 Axes>",
      "image/png": "[encoded data removed]"
     },
     "metadata": {
      "needs_background": "light",
      "image/png": {
       "width": 378,
       "height": 263
      }
     },
     "output_type": "display_data"
    }
   ],
   "execution_count": null
  },
  {
   "cell_type": "markdown",
   "source": "http://seaborn.pydata.org/generated/seaborn.jointplot.html",
   "metadata": {
    "tags": [],
    "cell_id": "00003-0e3992d6-7583-46c1-914f-0632e5a8a6ea",
    "deepnote_cell_type": "markdown"
   }
  },
  {
   "cell_type": "code",
   "metadata": {
    "tags": [],
    "cell_id": "00003-33f86689-6cc4-41c5-abeb-dde3f1a53cc0",
    "deepnote_to_be_reexecuted": false,
    "source_hash": "6a911771",
    "execution_start": 1624895724274,
    "execution_millis": 981,
    "output_cleared": false,
    "deepnote_cell_type": "code"
   },
   "source": "# joint plot\nsns.jointplot(data=iris, x = 'sepal_length', y = 'petal_length', hue = 'species')",
   "outputs": [
    {
     "output_type": "execute_result",
     "execution_count": 3,
     "data": {
      "text/plain": "<seaborn.axisgrid.JointGrid at 0x7f422b235550>"
     },
     "metadata": {}
    },
    {
     "data": {
      "text/plain": "<Figure size 432x432 with 3 Axes>",
      "image/png": "[encoded data removed]"
     },
     "metadata": {
      "needs_background": "light",
      "image/png": {
       "width": 415,
       "height": 424
      }
     },
     "output_type": "display_data"
    }
   ],
   "execution_count": null
  },
  {
   "cell_type": "code",
   "source": "#Second Joint Plot\nsns.jointplot(data = iris, x=\"sepal_width\", y=\"petal_width\", hue=\"species\")",
   "metadata": {
    "tags": [],
    "cell_id": "00005-987bd5c6-bcb1-4f7d-9880-e9b7560ef4f9",
    "deepnote_to_be_reexecuted": false,
    "source_hash": "18103ec1",
    "execution_start": 1624896156327,
    "execution_millis": 812,
    "deepnote_cell_type": "code"
   },
   "outputs": [
    {
     "output_type": "execute_result",
     "execution_count": 6,
     "data": {
      "text/plain": "<seaborn.axisgrid.JointGrid at 0x7f42214be690>"
     },
     "metadata": {}
    },
    {
     "data": {
      "text/plain": "<Figure size 432x432 with 3 Axes>",
      "image/png": "[encoded data removed]"
     },
     "metadata": {
      "needs_background": "light",
      "image/png": {
       "width": 424,
       "height": 424
      }
     },
     "output_type": "display_data"
    }
   ],
   "execution_count": null
  },
  {
   "cell_type": "markdown",
   "source": "https://seaborn.pydata.org/generated/seaborn.boxplot.html",
   "metadata": {
    "tags": [],
    "cell_id": "00005-88d88d4a-a6dd-45a0-963f-8bb386fe5977",
    "deepnote_cell_type": "markdown"
   }
  },
  {
   "cell_type": "code",
   "metadata": {
    "tags": [],
    "cell_id": "00004-c2f357b7-1e85-47cc-87e7-d08321b82dee",
    "deepnote_to_be_reexecuted": false,
    "source_hash": "ffd98e87",
    "execution_start": 1624895725258,
    "execution_millis": 443,
    "output_cleared": false,
    "deepnote_cell_type": "code"
   },
   "source": "# box plot, half is mediana\nsns.boxplot(x = 'species', y = 'sepal_length', data = iris)",
   "outputs": [
    {
     "output_type": "execute_result",
     "execution_count": 4,
     "data": {
      "text/plain": "<AxesSubplot:xlabel='species', ylabel='sepal_length'>"
     },
     "metadata": {}
    },
    {
     "data": {
      "text/plain": "<Figure size 432x288 with 1 Axes>",
      "image/png": "[encoded data removed]"
     },
     "metadata": {
      "needs_background": "light",
      "image/png": {
       "width": 387,
       "height": 262
      }
     },
     "output_type": "display_data"
    }
   ],
   "execution_count": null
  },
  {
   "cell_type": "markdown",
   "source": "https://seaborn.pydata.org/generated/seaborn.barplot.html",
   "metadata": {
    "tags": [],
    "cell_id": "00007-e39c65ba-fa68-4f02-89be-77d4b7a85910",
    "deepnote_cell_type": "markdown"
   }
  },
  {
   "cell_type": "code",
   "source": "iris['sepal_length'].mean()",
   "metadata": {
    "tags": [],
    "cell_id": "00009-610e9cb9-094f-4911-8b40-f8b4112b3730",
    "deepnote_to_be_reexecuted": false,
    "source_hash": "88450e2",
    "execution_start": 1624896311308,
    "execution_millis": 12,
    "deepnote_cell_type": "code"
   },
   "outputs": [
    {
     "output_type": "execute_result",
     "execution_count": 7,
     "data": {
      "text/plain": "5.843333333333334"
     },
     "metadata": {}
    }
   ],
   "execution_count": null
  },
  {
   "cell_type": "code",
   "metadata": {
    "tags": [],
    "cell_id": "00003-48cbfa8d-a13e-47eb-99bc-53d8c310981b",
    "deepnote_to_be_reexecuted": false,
    "source_hash": "7d00e579",
    "execution_start": 1624895725704,
    "execution_millis": 563,
    "output_cleared": false,
    "deepnote_cell_type": "code"
   },
   "source": "#Barplot\nsns.barplot(x = 'species', y = 'sepal_length', data = iris)",
   "outputs": [
    {
     "output_type": "execute_result",
     "execution_count": 5,
     "data": {
      "text/plain": "<AxesSubplot:xlabel='species', ylabel='sepal_length'>"
     },
     "metadata": {}
    },
    {
     "data": {
      "text/plain": "<Figure size 432x288 with 1 Axes>",
      "image/png": "[encoded data removed]"
     },
     "metadata": {
      "needs_background": "light",
      "image/png": {
       "width": 377,
       "height": 263
      }
     },
     "output_type": "display_data"
    }
   ],
   "execution_count": null
  },
  {
   "cell_type": "code",
   "source": "iris",
   "metadata": {
    "tags": [],
    "cell_id": "00011-49e2ed38-0141-41b0-bdf9-b6bc4fee1f08",
    "deepnote_to_be_reexecuted": false,
    "source_hash": "fa21489f",
    "execution_start": 1624896351916,
    "execution_millis": 49,
    "deepnote_cell_type": "code"
   },
   "outputs": [
    {
     "output_type": "execute_result",
     "execution_count": 8,
     "data": {
      "application/vnd.deepnote.dataframe.v2+json": {
       "row_count": 150,
       "column_count": 5,
       "columns": [
        {
         "name": "sepal_length",
         "dtype": "float64",
         "stats": {
          "unique_count": 35,
          "nan_count": 0,
          "min": "4.3",
          "max": "7.9",
          "histogram": [
           {
            "bin_start": 4.3,
            "bin_end": 4.66,
            "count": 9
           },
           {
            "bin_start": 4.66,
            "bin_end": 5.02,
            "count": 23
           },
           {
            "bin_start": 5.02,
            "bin_end": 5.38,
            "count": 14
           },
           {
            "bin_start": 5.38,
            "bin_end": 5.74,
            "count": 27
           },
           {
            "bin_start": 5.74,
            "bin_end": 6.1,
            "count": 16
           },
           {
            "bin_start": 6.1,
            "bin_end": 6.46,
            "count": 26
           },
           {
            "bin_start": 6.46,
            "bin_end": 6.82,
            "count": 18
           },
           {
            "bin_start": 6.82,
            "bin_end": 7.18,
            "count": 6
           },
           {
            "bin_start": 7.18,
            "bin_end": 7.54,
            "count": 5
           },
           {
            "bin_start": 7.54,
            "bin_end": 7.9,
            "count": 6
           }
          ]
         }
        },
        {
         "name": "sepal_width",
         "dtype": "float64",
         "stats": {
          "unique_count": 23,
          "nan_count": 0,
          "min": "2.0",
          "max": "4.4",
          "histogram": [
           {
            "bin_start": 2,
            "bin_end": 2.24,
            "count": 4
           },
           {
            "bin_start": 2.24,
            "bin_end": 2.48,
            "count": 7
           },
           {
            "bin_start": 2.48,
            "bin_end": 2.72,
            "count": 22
           },
           {
            "bin_start": 2.72,
            "bin_end": 2.96,
            "count": 24
           },
           {
            "bin_start": 2.96,
            "bin_end": 3.2,
            "count": 37
           },
           {
            "bin_start": 3.2,
            "bin_end": 3.4400000000000004,
            "count": 31
           },
           {
            "bin_start": 3.4400000000000004,
            "bin_end": 3.6800000000000006,
            "count": 10
           },
           {
            "bin_start": 3.6800000000000006,
            "bin_end": 3.9200000000000004,
            "count": 11
           },
           {
            "bin_start": 3.9200000000000004,
            "bin_end": 4.16,
            "count": 2
           },
           {
            "bin_start": 4.16,
            "bin_end": 4.4,
            "count": 2
           }
          ]
         }
        },
        {
         "name": "petal_length",
         "dtype": "float64",
         "stats": {
          "unique_count": 43,
          "nan_count": 0,
          "min": "1.0",
          "max": "6.9",
          "histogram": [
           {
            "bin_start": 1,
            "bin_end": 1.59,
            "count": 37
           },
           {
            "bin_start": 1.59,
            "bin_end": 2.18,
            "count": 13
           },
           {
            "bin_start": 2.18,
            "bin_end": 2.7700000000000005,
            "count": 0
           },
           {
            "bin_start": 2.7700000000000005,
            "bin_end": 3.3600000000000003,
            "count": 3
           },
           {
            "bin_start": 3.3600000000000003,
            "bin_end": 3.95,
            "count": 8
           },
           {
            "bin_start": 3.95,
            "bin_end": 4.540000000000001,
            "count": 26
           },
           {
            "bin_start": 4.540000000000001,
            "bin_end": 5.130000000000001,
            "count": 29
           },
           {
            "bin_start": 5.130000000000001,
            "bin_end": 5.720000000000001,
            "count": 18
           },
           {
            "bin_start": 5.720000000000001,
            "bin_end": 6.3100000000000005,
            "count": 11
           },
           {
            "bin_start": 6.3100000000000005,
            "bin_end": 6.9,
            "count": 5
           }
          ]
         }
        },
        {
         "name": "petal_width",
         "dtype": "float64",
         "stats": {
          "unique_count": 22,
          "nan_count": 0,
          "min": "0.1",
          "max": "2.5",
          "histogram": [
           {
            "bin_start": 0.1,
            "bin_end": 0.33999999999999997,
            "count": 41
           },
           {
            "bin_start": 0.33999999999999997,
            "bin_end": 0.58,
            "count": 8
           },
           {
            "bin_start": 0.58,
            "bin_end": 0.82,
            "count": 1
           },
           {
            "bin_start": 0.82,
            "bin_end": 1.06,
            "count": 7
           },
           {
            "bin_start": 1.06,
            "bin_end": 1.3,
            "count": 8
           },
           {
            "bin_start": 1.3,
            "bin_end": 1.54,
            "count": 33
           },
           {
            "bin_start": 1.54,
            "bin_end": 1.78,
            "count": 6
           },
           {
            "bin_start": 1.78,
            "bin_end": 2.02,
            "count": 23
           },
           {
            "bin_start": 2.02,
            "bin_end": 2.2600000000000002,
            "count": 9
           },
           {
            "bin_start": 2.2600000000000002,
            "bin_end": 2.5,
            "count": 14
           }
          ]
         }
        },
        {
         "name": "species",
         "dtype": "object",
         "stats": {
          "unique_count": 3,
          "nan_count": 0,
          "categories": [
           {
            "name": "setosa",
            "count": 50
           },
           {
            "name": "versicolor",
            "count": 50
           },
           {
            "name": "virginica",
            "count": 50
           }
          ]
         }
        },
        {
         "name": "_deepnote_index_column",
         "dtype": "int64"
        }
       ],
       "rows_top": [
        {
         "sepal_length": 5.1,
         "sepal_width": 3.5,
         "petal_length": 1.4,
         "petal_width": 0.2,
         "species": "setosa",
         "_deepnote_index_column": 0
        },
        {
         "sepal_length": 4.9,
         "sepal_width": 3,
         "petal_length": 1.4,
         "petal_width": 0.2,
         "species": "setosa",
         "_deepnote_index_column": 1
        },
        {
         "sepal_length": 4.7,
         "sepal_width": 3.2,
         "petal_length": 1.3,
         "petal_width": 0.2,
         "species": "setosa",
         "_deepnote_index_column": 2
        },
        {
         "sepal_length": 4.6,
         "sepal_width": 3.1,
         "petal_length": 1.5,
         "petal_width": 0.2,
         "species": "setosa",
         "_deepnote_index_column": 3
        },
        {
         "sepal_length": 5,
         "sepal_width": 3.6,
         "petal_length": 1.4,
         "petal_width": 0.2,
         "species": "setosa",
         "_deepnote_index_column": 4
        },
        {
         "sepal_length": 5.4,
         "sepal_width": 3.9,
         "petal_length": 1.7,
         "petal_width": 0.4,
         "species": "setosa",
         "_deepnote_index_column": 5
        },
        {
         "sepal_length": 4.6,
         "sepal_width": 3.4,
         "petal_length": 1.4,
         "petal_width": 0.3,
         "species": "setosa",
         "_deepnote_index_column": 6
        },
        {
         "sepal_length": 5,
         "sepal_width": 3.4,
         "petal_length": 1.5,
         "petal_width": 0.2,
         "species": "setosa",
         "_deepnote_index_column": 7
        },
        {
         "sepal_length": 4.4,
         "sepal_width": 2.9,
         "petal_length": 1.4,
         "petal_width": 0.2,
         "species": "setosa",
         "_deepnote_index_column": 8
        },
        {
         "sepal_length": 4.9,
         "sepal_width": 3.1,
         "petal_length": 1.5,
         "petal_width": 0.1,
         "species": "setosa",
         "_deepnote_index_column": 9
        },
        {
         "sepal_length": 5.4,
         "sepal_width": 3.7,
         "petal_length": 1.5,
         "petal_width": 0.2,
         "species": "setosa",
         "_deepnote_index_column": 10
        },
        {
         "sepal_length": 4.8,
         "sepal_width": 3.4,
         "petal_length": 1.6,
         "petal_width": 0.2,
         "species": "setosa",
         "_deepnote_index_column": 11
        },
        {
         "sepal_length": 4.8,
         "sepal_width": 3,
         "petal_length": 1.4,
         "petal_width": 0.1,
         "species": "setosa",
         "_deepnote_index_column": 12
        },
        {
         "sepal_length": 4.3,
         "sepal_width": 3,
         "petal_length": 1.1,
         "petal_width": 0.1,
         "species": "setosa",
         "_deepnote_index_column": 13
        },
        {
         "sepal_length": 5.8,
         "sepal_width": 4,
         "petal_length": 1.2,
         "petal_width": 0.2,
         "species": "setosa",
         "_deepnote_index_column": 14
        },
        {
         "sepal_length": 5.7,
         "sepal_width": 4.4,
         "petal_length": 1.5,
         "petal_width": 0.4,
         "species": "setosa",
         "_deepnote_index_column": 15
        },
        {
         "sepal_length": 5.4,
         "sepal_width": 3.9,
         "petal_length": 1.3,
         "petal_width": 0.4,
         "species": "setosa",
         "_deepnote_index_column": 16
        },
        {
         "sepal_length": 5.1,
         "sepal_width": 3.5,
         "petal_length": 1.4,
         "petal_width": 0.3,
         "species": "setosa",
         "_deepnote_index_column": 17
        },
        {
         "sepal_length": 5.7,
         "sepal_width": 3.8,
         "petal_length": 1.7,
         "petal_width": 0.3,
         "species": "setosa",
         "_deepnote_index_column": 18
        },
        {
         "sepal_length": 5.1,
         "sepal_width": 3.8,
         "petal_length": 1.5,
         "petal_width": 0.3,
         "species": "setosa",
         "_deepnote_index_column": 19
        },
        {
         "sepal_length": 5.4,
         "sepal_width": 3.4,
         "petal_length": 1.7,
         "petal_width": 0.2,
         "species": "setosa",
         "_deepnote_index_column": 20
        },
        {
         "sepal_length": 5.1,
         "sepal_width": 3.7,
         "petal_length": 1.5,
         "petal_width": 0.4,
         "species": "setosa",
         "_deepnote_index_column": 21
        },
        {
         "sepal_length": 4.6,
         "sepal_width": 3.6,
         "petal_length": 1,
         "petal_width": 0.2,
         "species": "setosa",
         "_deepnote_index_column": 22
        },
        {
         "sepal_length": 5.1,
         "sepal_width": 3.3,
         "petal_length": 1.7,
         "petal_width": 0.5,
         "species": "setosa",
         "_deepnote_index_column": 23
        },
        {
         "sepal_length": 4.8,
         "sepal_width": 3.4,
         "petal_length": 1.9,
         "petal_width": 0.2,
         "species": "setosa",
         "_deepnote_index_column": 24
        },
        {
         "sepal_length": 5,
         "sepal_width": 3,
         "petal_length": 1.6,
         "petal_width": 0.2,
         "species": "setosa",
         "_deepnote_index_column": 25
        },
        {
         "sepal_length": 5,
         "sepal_width": 3.4,
         "petal_length": 1.6,
         "petal_width": 0.4,
         "species": "setosa",
         "_deepnote_index_column": 26
        },
        {
         "sepal_length": 5.2,
         "sepal_width": 3.5,
         "petal_length": 1.5,
         "petal_width": 0.2,
         "species": "setosa",
         "_deepnote_index_column": 27
        },
        {
         "sepal_length": 5.2,
         "sepal_width": 3.4,
         "petal_length": 1.4,
         "petal_width": 0.2,
         "species": "setosa",
         "_deepnote_index_column": 28
        },
        {
         "sepal_length": 4.7,
         "sepal_width": 3.2,
         "petal_length": 1.6,
         "petal_width": 0.2,
         "species": "setosa",
         "_deepnote_index_column": 29
        },
        {
         "sepal_length": 4.8,
         "sepal_width": 3.1,
         "petal_length": 1.6,
         "petal_width": 0.2,
         "species": "setosa",
         "_deepnote_index_column": 30
        },
        {
         "sepal_length": 5.4,
         "sepal_width": 3.4,
         "petal_length": 1.5,
         "petal_width": 0.4,
         "species": "setosa",
         "_deepnote_index_column": 31
        },
        {
         "sepal_length": 5.2,
         "sepal_width": 4.1,
         "petal_length": 1.5,
         "petal_width": 0.1,
         "species": "setosa",
         "_deepnote_index_column": 32
        },
        {
         "sepal_length": 5.5,
         "sepal_width": 4.2,
         "petal_length": 1.4,
         "petal_width": 0.2,
         "species": "setosa",
         "_deepnote_index_column": 33
        },
        {
         "sepal_length": 4.9,
         "sepal_width": 3.1,
         "petal_length": 1.5,
         "petal_width": 0.2,
         "species": "setosa",
         "_deepnote_index_column": 34
        },
        {
         "sepal_length": 5,
         "sepal_width": 3.2,
         "petal_length": 1.2,
         "petal_width": 0.2,
         "species": "setosa",
         "_deepnote_index_column": 35
        },
        {
         "sepal_length": 5.5,
         "sepal_width": 3.5,
         "petal_length": 1.3,
         "petal_width": 0.2,
         "species": "setosa",
         "_deepnote_index_column": 36
        },
        {
         "sepal_length": 4.9,
         "sepal_width": 3.6,
         "petal_length": 1.4,
         "petal_width": 0.1,
         "species": "setosa",
         "_deepnote_index_column": 37
        },
        {
         "sepal_length": 4.4,
         "sepal_width": 3,
         "petal_length": 1.3,
         "petal_width": 0.2,
         "species": "setosa",
         "_deepnote_index_column": 38
        },
        {
         "sepal_length": 5.1,
         "sepal_width": 3.4,
         "petal_length": 1.5,
         "petal_width": 0.2,
         "species": "setosa",
         "_deepnote_index_column": 39
        },
        {
         "sepal_length": 5,
         "sepal_width": 3.5,
         "petal_length": 1.3,
         "petal_width": 0.3,
         "species": "setosa",
         "_deepnote_index_column": 40
        },
        {
         "sepal_length": 4.5,
         "sepal_width": 2.3,
         "petal_length": 1.3,
         "petal_width": 0.3,
         "species": "setosa",
         "_deepnote_index_column": 41
        },
        {
         "sepal_length": 4.4,
         "sepal_width": 3.2,
         "petal_length": 1.3,
         "petal_width": 0.2,
         "species": "setosa",
         "_deepnote_index_column": 42
        },
        {
         "sepal_length": 5,
         "sepal_width": 3.5,
         "petal_length": 1.6,
         "petal_width": 0.6,
         "species": "setosa",
         "_deepnote_index_column": 43
        },
        {
         "sepal_length": 5.1,
         "sepal_width": 3.8,
         "petal_length": 1.9,
         "petal_width": 0.4,
         "species": "setosa",
         "_deepnote_index_column": 44
        },
        {
         "sepal_length": 4.8,
         "sepal_width": 3,
         "petal_length": 1.4,
         "petal_width": 0.3,
         "species": "setosa",
         "_deepnote_index_column": 45
        },
        {
         "sepal_length": 5.1,
         "sepal_width": 3.8,
         "petal_length": 1.6,
         "petal_width": 0.2,
         "species": "setosa",
         "_deepnote_index_column": 46
        },
        {
         "sepal_length": 4.6,
         "sepal_width": 3.2,
         "petal_length": 1.4,
         "petal_width": 0.2,
         "species": "setosa",
         "_deepnote_index_column": 47
        },
        {
         "sepal_length": 5.3,
         "sepal_width": 3.7,
         "petal_length": 1.5,
         "petal_width": 0.2,
         "species": "setosa",
         "_deepnote_index_column": 48
        },
        {
         "sepal_length": 5,
         "sepal_width": 3.3,
         "petal_length": 1.4,
         "petal_width": 0.2,
         "species": "setosa",
         "_deepnote_index_column": 49
        },
        {
         "sepal_length": 7,
         "sepal_width": 3.2,
         "petal_length": 4.7,
         "petal_width": 1.4,
         "species": "versicolor",
         "_deepnote_index_column": 50
        },
        {
         "sepal_length": 6.4,
         "sepal_width": 3.2,
         "petal_length": 4.5,
         "petal_width": 1.5,
         "species": "versicolor",
         "_deepnote_index_column": 51
        },
        {
         "sepal_length": 6.9,
         "sepal_width": 3.1,
         "petal_length": 4.9,
         "petal_width": 1.5,
         "species": "versicolor",
         "_deepnote_index_column": 52
        },
        {
         "sepal_length": 5.5,
         "sepal_width": 2.3,
         "petal_length": 4,
         "petal_width": 1.3,
         "species": "versicolor",
         "_deepnote_index_column": 53
        },
        {
         "sepal_length": 6.5,
         "sepal_width": 2.8,
         "petal_length": 4.6,
         "petal_width": 1.5,
         "species": "versicolor",
         "_deepnote_index_column": 54
        },
        {
         "sepal_length": 5.7,
         "sepal_width": 2.8,
         "petal_length": 4.5,
         "petal_width": 1.3,
         "species": "versicolor",
         "_deepnote_index_column": 55
        },
        {
         "sepal_length": 6.3,
         "sepal_width": 3.3,
         "petal_length": 4.7,
         "petal_width": 1.6,
         "species": "versicolor",
         "_deepnote_index_column": 56
        },
        {
         "sepal_length": 4.9,
         "sepal_width": 2.4,
         "petal_length": 3.3,
         "petal_width": 1,
         "species": "versicolor",
         "_deepnote_index_column": 57
        },
        {
         "sepal_length": 6.6,
         "sepal_width": 2.9,
         "petal_length": 4.6,
         "petal_width": 1.3,
         "species": "versicolor",
         "_deepnote_index_column": 58
        },
        {
         "sepal_length": 5.2,
         "sepal_width": 2.7,
         "petal_length": 3.9,
         "petal_width": 1.4,
         "species": "versicolor",
         "_deepnote_index_column": 59
        },
        {
         "sepal_length": 5,
         "sepal_width": 2,
         "petal_length": 3.5,
         "petal_width": 1,
         "species": "versicolor",
         "_deepnote_index_column": 60
        },
        {
         "sepal_length": 5.9,
         "sepal_width": 3,
         "petal_length": 4.2,
         "petal_width": 1.5,
         "species": "versicolor",
         "_deepnote_index_column": 61
        },
        {
         "sepal_length": 6,
         "sepal_width": 2.2,
         "petal_length": 4,
         "petal_width": 1,
         "species": "versicolor",
         "_deepnote_index_column": 62
        },
        {
         "sepal_length": 6.1,
         "sepal_width": 2.9,
         "petal_length": 4.7,
         "petal_width": 1.4,
         "species": "versicolor",
         "_deepnote_index_column": 63
        },
        {
         "sepal_length": 5.6,
         "sepal_width": 2.9,
         "petal_length": 3.6,
         "petal_width": 1.3,
         "species": "versicolor",
         "_deepnote_index_column": 64
        },
        {
         "sepal_length": 6.7,
         "sepal_width": 3.1,
         "petal_length": 4.4,
         "petal_width": 1.4,
         "species": "versicolor",
         "_deepnote_index_column": 65
        },
        {
         "sepal_length": 5.6,
         "sepal_width": 3,
         "petal_length": 4.5,
         "petal_width": 1.5,
         "species": "versicolor",
         "_deepnote_index_column": 66
        },
        {
         "sepal_length": 5.8,
         "sepal_width": 2.7,
         "petal_length": 4.1,
         "petal_width": 1,
         "species": "versicolor",
         "_deepnote_index_column": 67
        },
        {
         "sepal_length": 6.2,
         "sepal_width": 2.2,
         "petal_length": 4.5,
         "petal_width": 1.5,
         "species": "versicolor",
         "_deepnote_index_column": 68
        },
        {
         "sepal_length": 5.6,
         "sepal_width": 2.5,
         "petal_length": 3.9,
         "petal_width": 1.1,
         "species": "versicolor",
         "_deepnote_index_column": 69
        },
        {
         "sepal_length": 5.9,
         "sepal_width": 3.2,
         "petal_length": 4.8,
         "petal_width": 1.8,
         "species": "versicolor",
         "_deepnote_index_column": 70
        },
        {
         "sepal_length": 6.1,
         "sepal_width": 2.8,
         "petal_length": 4,
         "petal_width": 1.3,
         "species": "versicolor",
         "_deepnote_index_column": 71
        },
        {
         "sepal_length": 6.3,
         "sepal_width": 2.5,
         "petal_length": 4.9,
         "petal_width": 1.5,
         "species": "versicolor",
         "_deepnote_index_column": 72
        },
        {
         "sepal_length": 6.1,
         "sepal_width": 2.8,
         "petal_length": 4.7,
         "petal_width": 1.2,
         "species": "versicolor",
         "_deepnote_index_column": 73
        },
        {
         "sepal_length": 6.4,
         "sepal_width": 2.9,
         "petal_length": 4.3,
         "petal_width": 1.3,
         "species": "versicolor",
         "_deepnote_index_column": 74
        },
        {
         "sepal_length": 6.6,
         "sepal_width": 3,
         "petal_length": 4.4,
         "petal_width": 1.4,
         "species": "versicolor",
         "_deepnote_index_column": 75
        },
        {
         "sepal_length": 6.8,
         "sepal_width": 2.8,
         "petal_length": 4.8,
         "petal_width": 1.4,
         "species": "versicolor",
         "_deepnote_index_column": 76
        },
        {
         "sepal_length": 6.7,
         "sepal_width": 3,
         "petal_length": 5,
         "petal_width": 1.7,
         "species": "versicolor",
         "_deepnote_index_column": 77
        },
        {
         "sepal_length": 6,
         "sepal_width": 2.9,
         "petal_length": 4.5,
         "petal_width": 1.5,
         "species": "versicolor",
         "_deepnote_index_column": 78
        },
        {
         "sepal_length": 5.7,
         "sepal_width": 2.6,
         "petal_length": 3.5,
         "petal_width": 1,
         "species": "versicolor",
         "_deepnote_index_column": 79
        },
        {
         "sepal_length": 5.5,
         "sepal_width": 2.4,
         "petal_length": 3.8,
         "petal_width": 1.1,
         "species": "versicolor",
         "_deepnote_index_column": 80
        },
        {
         "sepal_length": 5.5,
         "sepal_width": 2.4,
         "petal_length": 3.7,
         "petal_width": 1,
         "species": "versicolor",
         "_deepnote_index_column": 81
        },
        {
         "sepal_length": 5.8,
         "sepal_width": 2.7,
         "petal_length": 3.9,
         "petal_width": 1.2,
         "species": "versicolor",
         "_deepnote_index_column": 82
        },
        {
         "sepal_length": 6,
         "sepal_width": 2.7,
         "petal_length": 5.1,
         "petal_width": 1.6,
         "species": "versicolor",
         "_deepnote_index_column": 83
        },
        {
         "sepal_length": 5.4,
         "sepal_width": 3,
         "petal_length": 4.5,
         "petal_width": 1.5,
         "species": "versicolor",
         "_deepnote_index_column": 84
        },
        {
         "sepal_length": 6,
         "sepal_width": 3.4,
         "petal_length": 4.5,
         "petal_width": 1.6,
         "species": "versicolor",
         "_deepnote_index_column": 85
        },
        {
         "sepal_length": 6.7,
         "sepal_width": 3.1,
         "petal_length": 4.7,
         "petal_width": 1.5,
         "species": "versicolor",
         "_deepnote_index_column": 86
        },
        {
         "sepal_length": 6.3,
         "sepal_width": 2.3,
         "petal_length": 4.4,
         "petal_width": 1.3,
         "species": "versicolor",
         "_deepnote_index_column": 87
        },
        {
         "sepal_length": 5.6,
         "sepal_width": 3,
         "petal_length": 4.1,
         "petal_width": 1.3,
         "species": "versicolor",
         "_deepnote_index_column": 88
        },
        {
         "sepal_length": 5.5,
         "sepal_width": 2.5,
         "petal_length": 4,
         "petal_width": 1.3,
         "species": "versicolor",
         "_deepnote_index_column": 89
        },
        {
         "sepal_length": 5.5,
         "sepal_width": 2.6,
         "petal_length": 4.4,
         "petal_width": 1.2,
         "species": "versicolor",
         "_deepnote_index_column": 90
        },
        {
         "sepal_length": 6.1,
         "sepal_width": 3,
         "petal_length": 4.6,
         "petal_width": 1.4,
         "species": "versicolor",
         "_deepnote_index_column": 91
        },
        {
         "sepal_length": 5.8,
         "sepal_width": 2.6,
         "petal_length": 4,
         "petal_width": 1.2,
         "species": "versicolor",
         "_deepnote_index_column": 92
        },
        {
         "sepal_length": 5,
         "sepal_width": 2.3,
         "petal_length": 3.3,
         "petal_width": 1,
         "species": "versicolor",
         "_deepnote_index_column": 93
        },
        {
         "sepal_length": 5.6,
         "sepal_width": 2.7,
         "petal_length": 4.2,
         "petal_width": 1.3,
         "species": "versicolor",
         "_deepnote_index_column": 94
        },
        {
         "sepal_length": 5.7,
         "sepal_width": 3,
         "petal_length": 4.2,
         "petal_width": 1.2,
         "species": "versicolor",
         "_deepnote_index_column": 95
        },
        {
         "sepal_length": 5.7,
         "sepal_width": 2.9,
         "petal_length": 4.2,
         "petal_width": 1.3,
         "species": "versicolor",
         "_deepnote_index_column": 96
        },
        {
         "sepal_length": 6.2,
         "sepal_width": 2.9,
         "petal_length": 4.3,
         "petal_width": 1.3,
         "species": "versicolor",
         "_deepnote_index_column": 97
        },
        {
         "sepal_length": 5.1,
         "sepal_width": 2.5,
         "petal_length": 3,
         "petal_width": 1.1,
         "species": "versicolor",
         "_deepnote_index_column": 98
        },
        {
         "sepal_length": 5.7,
         "sepal_width": 2.8,
         "petal_length": 4.1,
         "petal_width": 1.3,
         "species": "versicolor",
         "_deepnote_index_column": 99
        },
        {
         "sepal_length": 6.3,
         "sepal_width": 3.3,
         "petal_length": 6,
         "petal_width": 2.5,
         "species": "virginica",
         "_deepnote_index_column": 100
        },
        {
         "sepal_length": 5.8,
         "sepal_width": 2.7,
         "petal_length": 5.1,
         "petal_width": 1.9,
         "species": "virginica",
         "_deepnote_index_column": 101
        },
        {
         "sepal_length": 7.1,
         "sepal_width": 3,
         "petal_length": 5.9,
         "petal_width": 2.1,
         "species": "virginica",
         "_deepnote_index_column": 102
        },
        {
         "sepal_length": 6.3,
         "sepal_width": 2.9,
         "petal_length": 5.6,
         "petal_width": 1.8,
         "species": "virginica",
         "_deepnote_index_column": 103
        },
        {
         "sepal_length": 6.5,
         "sepal_width": 3,
         "petal_length": 5.8,
         "petal_width": 2.2,
         "species": "virginica",
         "_deepnote_index_column": 104
        },
        {
         "sepal_length": 7.6,
         "sepal_width": 3,
         "petal_length": 6.6,
         "petal_width": 2.1,
         "species": "virginica",
         "_deepnote_index_column": 105
        },
        {
         "sepal_length": 4.9,
         "sepal_width": 2.5,
         "petal_length": 4.5,
         "petal_width": 1.7,
         "species": "virginica",
         "_deepnote_index_column": 106
        },
        {
         "sepal_length": 7.3,
         "sepal_width": 2.9,
         "petal_length": 6.3,
         "petal_width": 1.8,
         "species": "virginica",
         "_deepnote_index_column": 107
        },
        {
         "sepal_length": 6.7,
         "sepal_width": 2.5,
         "petal_length": 5.8,
         "petal_width": 1.8,
         "species": "virginica",
         "_deepnote_index_column": 108
        },
        {
         "sepal_length": 7.2,
         "sepal_width": 3.6,
         "petal_length": 6.1,
         "petal_width": 2.5,
         "species": "virginica",
         "_deepnote_index_column": 109
        },
        {
         "sepal_length": 6.5,
         "sepal_width": 3.2,
         "petal_length": 5.1,
         "petal_width": 2,
         "species": "virginica",
         "_deepnote_index_column": 110
        },
        {
         "sepal_length": 6.4,
         "sepal_width": 2.7,
         "petal_length": 5.3,
         "petal_width": 1.9,
         "species": "virginica",
         "_deepnote_index_column": 111
        },
        {
         "sepal_length": 6.8,
         "sepal_width": 3,
         "petal_length": 5.5,
         "petal_width": 2.1,
         "species": "virginica",
         "_deepnote_index_column": 112
        },
        {
         "sepal_length": 5.7,
         "sepal_width": 2.5,
         "petal_length": 5,
         "petal_width": 2,
         "species": "virginica",
         "_deepnote_index_column": 113
        },
        {
         "sepal_length": 5.8,
         "sepal_width": 2.8,
         "petal_length": 5.1,
         "petal_width": 2.4,
         "species": "virginica",
         "_deepnote_index_column": 114
        },
        {
         "sepal_length": 6.4,
         "sepal_width": 3.2,
         "petal_length": 5.3,
         "petal_width": 2.3,
         "species": "virginica",
         "_deepnote_index_column": 115
        },
        {
         "sepal_length": 6.5,
         "sepal_width": 3,
         "petal_length": 5.5,
         "petal_width": 1.8,
         "species": "virginica",
         "_deepnote_index_column": 116
        },
        {
         "sepal_length": 7.7,
         "sepal_width": 3.8,
         "petal_length": 6.7,
         "petal_width": 2.2,
         "species": "virginica",
         "_deepnote_index_column": 117
        },
        {
         "sepal_length": 7.7,
         "sepal_width": 2.6,
         "petal_length": 6.9,
         "petal_width": 2.3,
         "species": "virginica",
         "_deepnote_index_column": 118
        },
        {
         "sepal_length": 6,
         "sepal_width": 2.2,
         "petal_length": 5,
         "petal_width": 1.5,
         "species": "virginica",
         "_deepnote_index_column": 119
        },
        {
         "sepal_length": 6.9,
         "sepal_width": 3.2,
         "petal_length": 5.7,
         "petal_width": 2.3,
         "species": "virginica",
         "_deepnote_index_column": 120
        },
        {
         "sepal_length": 5.6,
         "sepal_width": 2.8,
         "petal_length": 4.9,
         "petal_width": 2,
         "species": "virginica",
         "_deepnote_index_column": 121
        },
        {
         "sepal_length": 7.7,
         "sepal_width": 2.8,
         "petal_length": 6.7,
         "petal_width": 2,
         "species": "virginica",
         "_deepnote_index_column": 122
        },
        {
         "sepal_length": 6.3,
         "sepal_width": 2.7,
         "petal_length": 4.9,
         "petal_width": 1.8,
         "species": "virginica",
         "_deepnote_index_column": 123
        },
        {
         "sepal_length": 6.7,
         "sepal_width": 3.3,
         "petal_length": 5.7,
         "petal_width": 2.1,
         "species": "virginica",
         "_deepnote_index_column": 124
        },
        {
         "sepal_length": 7.2,
         "sepal_width": 3.2,
         "petal_length": 6,
         "petal_width": 1.8,
         "species": "virginica",
         "_deepnote_index_column": 125
        },
        {
         "sepal_length": 6.2,
         "sepal_width": 2.8,
         "petal_length": 4.8,
         "petal_width": 1.8,
         "species": "virginica",
         "_deepnote_index_column": 126
        },
        {
         "sepal_length": 6.1,
         "sepal_width": 3,
         "petal_length": 4.9,
         "petal_width": 1.8,
         "species": "virginica",
         "_deepnote_index_column": 127
        },
        {
         "sepal_length": 6.4,
         "sepal_width": 2.8,
         "petal_length": 5.6,
         "petal_width": 2.1,
         "species": "virginica",
         "_deepnote_index_column": 128
        },
        {
         "sepal_length": 7.2,
         "sepal_width": 3,
         "petal_length": 5.8,
         "petal_width": 1.6,
         "species": "virginica",
         "_deepnote_index_column": 129
        },
        {
         "sepal_length": 7.4,
         "sepal_width": 2.8,
         "petal_length": 6.1,
         "petal_width": 1.9,
         "species": "virginica",
         "_deepnote_index_column": 130
        },
        {
         "sepal_length": 7.9,
         "sepal_width": 3.8,
         "petal_length": 6.4,
         "petal_width": 2,
         "species": "virginica",
         "_deepnote_index_column": 131
        },
        {
         "sepal_length": 6.4,
         "sepal_width": 2.8,
         "petal_length": 5.6,
         "petal_width": 2.2,
         "species": "virginica",
         "_deepnote_index_column": 132
        },
        {
         "sepal_length": 6.3,
         "sepal_width": 2.8,
         "petal_length": 5.1,
         "petal_width": 1.5,
         "species": "virginica",
         "_deepnote_index_column": 133
        },
        {
         "sepal_length": 6.1,
         "sepal_width": 2.6,
         "petal_length": 5.6,
         "petal_width": 1.4,
         "species": "virginica",
         "_deepnote_index_column": 134
        },
        {
         "sepal_length": 7.7,
         "sepal_width": 3,
         "petal_length": 6.1,
         "petal_width": 2.3,
         "species": "virginica",
         "_deepnote_index_column": 135
        },
        {
         "sepal_length": 6.3,
         "sepal_width": 3.4,
         "petal_length": 5.6,
         "petal_width": 2.4,
         "species": "virginica",
         "_deepnote_index_column": 136
        },
        {
         "sepal_length": 6.4,
         "sepal_width": 3.1,
         "petal_length": 5.5,
         "petal_width": 1.8,
         "species": "virginica",
         "_deepnote_index_column": 137
        },
        {
         "sepal_length": 6,
         "sepal_width": 3,
         "petal_length": 4.8,
         "petal_width": 1.8,
         "species": "virginica",
         "_deepnote_index_column": 138
        },
        {
         "sepal_length": 6.9,
         "sepal_width": 3.1,
         "petal_length": 5.4,
         "petal_width": 2.1,
         "species": "virginica",
         "_deepnote_index_column": 139
        },
        {
         "sepal_length": 6.7,
         "sepal_width": 3.1,
         "petal_length": 5.6,
         "petal_width": 2.4,
         "species": "virginica",
         "_deepnote_index_column": 140
        },
        {
         "sepal_length": 6.9,
         "sepal_width": 3.1,
         "petal_length": 5.1,
         "petal_width": 2.3,
         "species": "virginica",
         "_deepnote_index_column": 141
        },
        {
         "sepal_length": 5.8,
         "sepal_width": 2.7,
         "petal_length": 5.1,
         "petal_width": 1.9,
         "species": "virginica",
         "_deepnote_index_column": 142
        },
        {
         "sepal_length": 6.8,
         "sepal_width": 3.2,
         "petal_length": 5.9,
         "petal_width": 2.3,
         "species": "virginica",
         "_deepnote_index_column": 143
        },
        {
         "sepal_length": 6.7,
         "sepal_width": 3.3,
         "petal_length": 5.7,
         "petal_width": 2.5,
         "species": "virginica",
         "_deepnote_index_column": 144
        },
        {
         "sepal_length": 6.7,
         "sepal_width": 3,
         "petal_length": 5.2,
         "petal_width": 2.3,
         "species": "virginica",
         "_deepnote_index_column": 145
        },
        {
         "sepal_length": 6.3,
         "sepal_width": 2.5,
         "petal_length": 5,
         "petal_width": 1.9,
         "species": "virginica",
         "_deepnote_index_column": 146
        },
        {
         "sepal_length": 6.5,
         "sepal_width": 3,
         "petal_length": 5.2,
         "petal_width": 2,
         "species": "virginica",
         "_deepnote_index_column": 147
        },
        {
         "sepal_length": 6.2,
         "sepal_width": 3.4,
         "petal_length": 5.4,
         "petal_width": 2.3,
         "species": "virginica",
         "_deepnote_index_column": 148
        },
        {
         "sepal_length": 5.9,
         "sepal_width": 3,
         "petal_length": 5.1,
         "petal_width": 1.8,
         "species": "virginica",
         "_deepnote_index_column": 149
        }
       ],
       "rows_bottom": null
      },
      "text/plain": "     sepal_length  sepal_width  petal_length  petal_width    species\n0             5.1          3.5           1.4          0.2     setosa\n1             4.9          3.0           1.4          0.2     setosa\n2             4.7          3.2           1.3          0.2     setosa\n3             4.6          3.1           1.5          0.2     setosa\n4             5.0          3.6           1.4          0.2     setosa\n..            ...          ...           ...          ...        ...\n145           6.7          3.0           5.2          2.3  virginica\n146           6.3          2.5           5.0          1.9  virginica\n147           6.5          3.0           5.2          2.0  virginica\n148           6.2          3.4           5.4          2.3  virginica\n149           5.9          3.0           5.1          1.8  virginica\n\n[150 rows x 5 columns]",
      "text/html": "<div>\n<style scoped>\n    .dataframe tbody tr th:only-of-type {\n        vertical-align: middle;\n    }\n\n    .dataframe tbody tr th {\n        vertical-align: top;\n    }\n\n    .dataframe thead th {\n        text-align: right;\n    }\n</style>\n<table border=\"1\" class=\"dataframe\">\n  <thead>\n    <tr style=\"text-align: right;\">\n      <th></th>\n      <th>sepal_length</th>\n      <th>sepal_width</th>\n      <th>petal_length</th>\n      <th>petal_width</th>\n      <th>species</th>\n    </tr>\n  </thead>\n  <tbody>\n    <tr>\n      <th>0</th>\n      <td>5.1</td>\n      <td>3.5</td>\n      <td>1.4</td>\n      <td>0.2</td>\n      <td>setosa</td>\n    </tr>\n    <tr>\n      <th>1</th>\n      <td>4.9</td>\n      <td>3.0</td>\n      <td>1.4</td>\n      <td>0.2</td>\n      <td>setosa</td>\n    </tr>\n    <tr>\n      <th>2</th>\n      <td>4.7</td>\n      <td>3.2</td>\n      <td>1.3</td>\n      <td>0.2</td>\n      <td>setosa</td>\n    </tr>\n    <tr>\n      <th>3</th>\n      <td>4.6</td>\n      <td>3.1</td>\n      <td>1.5</td>\n      <td>0.2</td>\n      <td>setosa</td>\n    </tr>\n    <tr>\n      <th>4</th>\n      <td>5.0</td>\n      <td>3.6</td>\n      <td>1.4</td>\n      <td>0.2</td>\n      <td>setosa</td>\n    </tr>\n    <tr>\n      <th>...</th>\n      <td>...</td>\n      <td>...</td>\n      <td>...</td>\n      <td>...</td>\n      <td>...</td>\n    </tr>\n    <tr>\n      <th>145</th>\n      <td>6.7</td>\n      <td>3.0</td>\n      <td>5.2</td>\n      <td>2.3</td>\n      <td>virginica</td>\n    </tr>\n    <tr>\n      <th>146</th>\n      <td>6.3</td>\n      <td>2.5</td>\n      <td>5.0</td>\n      <td>1.9</td>\n      <td>virginica</td>\n    </tr>\n    <tr>\n      <th>147</th>\n      <td>6.5</td>\n      <td>3.0</td>\n      <td>5.2</td>\n      <td>2.0</td>\n      <td>virginica</td>\n    </tr>\n    <tr>\n      <th>148</th>\n      <td>6.2</td>\n      <td>3.4</td>\n      <td>5.4</td>\n      <td>2.3</td>\n      <td>virginica</td>\n    </tr>\n    <tr>\n      <th>149</th>\n      <td>5.9</td>\n      <td>3.0</td>\n      <td>5.1</td>\n      <td>1.8</td>\n      <td>virginica</td>\n    </tr>\n  </tbody>\n</table>\n<p>150 rows × 5 columns</p>\n</div>"
     },
     "metadata": {}
    }
   ],
   "execution_count": null
  },
  {
   "cell_type": "markdown",
   "source": "<a style='text-decoration:none;line-height:16px;display:flex;color:#5B5B62;padding:10px;justify-content:end;' href='https://deepnote.com?utm_source=created-in-deepnote-cell&projectId=7255d091-fa21-4f8c-9266-6798904746cc' target=\"_blank\">\n<img alt='Created in deepnote.com' style='display:inline;max-height:16px;margin:0px;margin-right:7.5px;' src='data:image/svg+xml;base64,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' > </img>\nCreated in <span style='font-weight:600;margin-left:4px;'>Deepnote</span></a>",
   "metadata": {
    "tags": [],
    "created_in_deepnote_cell": true,
    "deepnote_cell_type": "markdown"
   }
  }
 ],
 "nbformat": 4,
 "nbformat_minor": 2,
 "metadata": {
  "orig_nbformat": 2,
  "deepnote": {
   "is_reactive": false
  },
  "deepnote_notebook_id": "0f75b7fe-28c2-4487-86bb-ee0b40892542",
  "deepnote_execution_queue": []
 }
}